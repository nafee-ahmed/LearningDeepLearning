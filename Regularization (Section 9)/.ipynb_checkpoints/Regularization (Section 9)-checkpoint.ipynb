{
 "cells": [
  {
   "cell_type": "markdown",
   "id": "44101992",
   "metadata": {},
   "source": [
    "## Why regularize and its types (Regularization: Concept and methods: Video 69)\n",
    "\n",
    "**Why Regularization?**\n",
    "\n",
    "* penalizes memorization (over-learning examples)\n",
    "* helps the model generalize to unseen examples\n",
    "* changes the representations of learning (either more sparse or more distributed depending on the regularizer)\n",
    "\n",
    "Works better for larger models\n",
    "\n",
    "**There are 3 types of regularization:**\n",
    "\n",
    "* Modify the model (dropout) : Node regularization\n",
    "  \n",
    "  Dropout removes nodes randomly during learning\n",
    "* Add a cost to the loss function (L1/L2) : Loss regularization\n",
    "  \n",
    "  L1/L2 Regularization: add a cost to the loss function to prevent weights from getting too large.\n",
    "* Modify or add data (batch training, data augmentation) : Data regularization\n",
    "  \n",
    "  Data augmentation: add more data as slightly modified versions of existing data (usually just for images)"
   ]
  },
  {
   "cell_type": "markdown",
   "id": "dcdecd48",
   "metadata": {},
   "source": [
    "## Modes to turn off/on with regularization theories (train() and eval() modes: Video 70)\n",
    "\n",
    "Gradients are computed only during backprop, not during evaluation\n",
    "\n",
    "Some regularization methods are applied only during training, not during evaluation particularly dropout or batch normalization\n",
    "\n",
    "Therefore, we need a way to deactivate gradient computations and regularization while evaluating model performance\n",
    "\n",
    "| `net.train()`                                        | `net.eval()`                                         | `torch.no_grad()`                                   |\n",
    "| ---------------------------------------------------- | ---------------------------------------------------- | --------------------------------------------------- |\n",
    "| Training mode                                        | Testing mode                                         | Testing mode                                        |\n",
    "| Regularization active                                | Regularization off                                   | Gradients not computed                              |\n",
    "| Necessary for training regularization, on by default | Necessary when evaluating models with regularization | Never necessary, makes large models evaluate faster |\n",
    "\n",
    "<img src=\"./Images/1.png\" title=\"\" alt=\"\" width=\"667\">"
   ]
  },
  {
   "cell_type": "code",
   "execution_count": null,
   "id": "4c1c7830",
   "metadata": {},
   "outputs": [],
   "source": []
  }
 ],
 "metadata": {
  "kernelspec": {
   "display_name": "Python 3 (ipykernel)",
   "language": "python",
   "name": "python3"
  },
  "language_info": {
   "codemirror_mode": {
    "name": "ipython",
    "version": 3
   },
   "file_extension": ".py",
   "mimetype": "text/x-python",
   "name": "python",
   "nbconvert_exporter": "python",
   "pygments_lexer": "ipython3",
   "version": "3.10.8"
  }
 },
 "nbformat": 4,
 "nbformat_minor": 5
}
