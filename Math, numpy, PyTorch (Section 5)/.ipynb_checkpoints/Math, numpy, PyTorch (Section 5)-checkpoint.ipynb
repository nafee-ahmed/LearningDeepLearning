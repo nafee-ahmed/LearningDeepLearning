{
 "cells": [
  {
   "cell_type": "markdown",
   "id": "a0e8b417",
   "metadata": {},
   "source": [
    "<img src=\"./Images/1.png\" title=\"\" alt=\"\" width=\"767\">\n",
    "\n",
    "Matrices are represented as: number of rows X number of columns\n",
    "\n",
    "## How to do transpose on numpy and PyTorch? (Vector and matrix transpose: Video 16)\n",
    "Transpose just turns columns to rows and vice versa on matrices and vectors. Remember vectors are just matrices **with** one column **OR** one row."
   ]
  },
  {
   "cell_type": "code",
   "execution_count": 87,
   "id": "0c492b2d",
   "metadata": {},
   "outputs": [],
   "source": [
    "import numpy as np\n",
    "import torch\n",
    "import torch.nn as nn\n",
    "import torch.nn.functional as F\n",
    "import matplotlib.pyplot as plt\n",
    "import scipy.stats as stats\n",
    "import sympy as sym # only used for next 2 sections and gradient descent section\n",
    "import sympy.plotting.plot as symplot\n",
    "# notebook's library (no need to install anything) to display equations nicely\n",
    "from IPython.display import display "
   ]
  },
  {
   "cell_type": "markdown",
   "id": "f966ce9e",
   "metadata": {},
   "source": [
    "Using numpy"
   ]
  },
  {
   "cell_type": "code",
   "execution_count": 88,
   "id": "16758199",
   "metadata": {
    "scrolled": true
   },
   "outputs": [
    {
     "data": {
      "text/plain": [
       "(array([[1, 2, 3, 4],\n",
       "        [5, 6, 7, 8]]),\n",
       " array([[1, 5],\n",
       "        [2, 6],\n",
       "        [3, 7],\n",
       "        [4, 8]]))"
      ]
     },
     "execution_count": 88,
     "metadata": {},
     "output_type": "execute_result"
    }
   ],
   "source": [
    "matrix = np.array([[1,2,3,4], [5,6,7,8]])\n",
    "matrix, matrix.T"
   ]
  },
  {
   "cell_type": "markdown",
   "id": "2e5c0653",
   "metadata": {},
   "source": [
    "Using Pytorch"
   ]
  },
  {
   "cell_type": "code",
   "execution_count": 89,
   "id": "35066355",
   "metadata": {},
   "outputs": [
    {
     "data": {
      "text/plain": [
       "(tensor([[1, 2, 3, 4],\n",
       "         [5, 6, 7, 8]]),\n",
       " tensor([[1, 5],\n",
       "         [2, 6],\n",
       "         [3, 7],\n",
       "         [4, 8]]))"
      ]
     },
     "execution_count": 89,
     "metadata": {},
     "output_type": "execute_result"
    }
   ],
   "source": [
    "matrix = torch.tensor([[1,2,3,4], [5,6,7,8]])\n",
    "matrix, matrix.T"
   ]
  },
  {
   "cell_type": "markdown",
   "id": "ced2df9c",
   "metadata": {},
   "source": [
    "## Dot product implementation in math, Numpy, and Pytorch (OMG it's the dot product!: Video 17)"
   ]
  },
  {
   "cell_type": "markdown",
   "id": "37eaf62a",
   "metadata": {},
   "source": [
    "Dot product notations:\n",
    "\n",
    "$\\alpha = a.b=<a,b>=a^Tb=\\sum^n_{i=1}a_ib_i$\n",
    "\n",
    "To have a dot product between 2 matrices /vectors: \n",
    "\n",
    "* they have to have the same length (same number of rows and same number of columns in each matrices/vectors).\n",
    "\n",
    "<img title=\"\" src=\"./Images/2.jpeg\" alt=\"\" width=\"563\">\n",
    "\n",
    "Dot product is always a single number."
   ]
  },
  {
   "cell_type": "code",
   "execution_count": 90,
   "id": "ef627f46",
   "metadata": {},
   "outputs": [
    {
     "name": "stdout",
     "output_type": "stream",
     "text": [
      "22\n"
     ]
    }
   ],
   "source": [
    "matA = np.array([[0,3,2], [-3,-3,1], [1,0,2]])\n",
    "matB = np.array([[1,0,6], [2,-1,0], [5,1,4]])\n",
    "print(np.sum(matA * matB))"
   ]
  },
  {
   "cell_type": "code",
   "execution_count": 91,
   "id": "dc976eb8",
   "metadata": {},
   "outputs": [
    {
     "data": {
      "text/plain": [
       "tensor(22)"
      ]
     },
     "execution_count": 91,
     "metadata": {},
     "output_type": "execute_result"
    }
   ],
   "source": [
    "matA = torch.tensor([[0,3,2], [-3,-3,1], [1,0,2]])\n",
    "matB = torch.tensor([[1,0,6], [2,-1,0], [5,1,4]])\n",
    "torch.sum(matA * matB)"
   ]
  },
  {
   "cell_type": "code",
   "execution_count": 92,
   "id": "8e99c00d",
   "metadata": {},
   "outputs": [
    {
     "data": {
      "text/plain": [
       "tensor(12)"
      ]
     },
     "execution_count": 92,
     "metadata": {},
     "output_type": "execute_result"
    }
   ],
   "source": [
    "matA = torch.tensor([[0,3,2]])\n",
    "matB = torch.tensor([[1,0,6]])\n",
    "torch.sum(matA * matB)"
   ]
  },
  {
   "cell_type": "code",
   "execution_count": 93,
   "id": "bf551f56",
   "metadata": {},
   "outputs": [
    {
     "data": {
      "text/plain": [
       "12"
      ]
     },
     "execution_count": 93,
     "metadata": {},
     "output_type": "execute_result"
    }
   ],
   "source": [
    "matA = np.array([[0,3,2]])\n",
    "matB = np.array([[1,0,6]])\n",
    "np.sum(matA * matB)"
   ]
  },
  {
   "cell_type": "markdown",
   "id": "0e6b7501",
   "metadata": {},
   "source": [
    "## Matrix multiplication on math, numpy, and pytorch (Matrix multiplication: Video 18)\n",
    "\n",
    "For matrices to be multiplied:\n",
    "\n",
    "* Number of columns in first matrix = number of rows in second matrix\n",
    "\n",
    "<img title=\"\" src=\"./Images/3.png\" alt=\"\" width=\"654\">\n"
   ]
  },
  {
   "cell_type": "code",
   "execution_count": 94,
   "id": "e24ec850",
   "metadata": {},
   "outputs": [
    {
     "data": {
      "text/plain": [
       "array([[ 16,  -1,   8],\n",
       "       [ -4,   4, -14],\n",
       "       [ 11,   2,  14]])"
      ]
     },
     "execution_count": 94,
     "metadata": {},
     "output_type": "execute_result"
    }
   ],
   "source": [
    "nMatA = np.array([[0,3,2], [-3,-3,1], [1,0,2]])\n",
    "nMatB = np.array([[1,0,6], [2,-1,0], [5,1,4]])\n",
    "nMatA@nMatB"
   ]
  },
  {
   "cell_type": "code",
   "execution_count": 95,
   "id": "9671dabd",
   "metadata": {},
   "outputs": [
    {
     "data": {
      "text/plain": [
       "tensor([[ 16,  -1,   8],\n",
       "        [ -4,   4, -14],\n",
       "        [ 11,   2,  14]])"
      ]
     },
     "execution_count": 95,
     "metadata": {},
     "output_type": "execute_result"
    }
   ],
   "source": [
    "matA = torch.tensor([[0,3,2], [-3,-3,1], [1,0,2]])\n",
    "matB = torch.tensor([[1,0,6], [2,-1,0], [5,1,4]])\n",
    "matA@matB"
   ]
  },
  {
   "cell_type": "code",
   "execution_count": 96,
   "id": "1938424d",
   "metadata": {},
   "outputs": [
    {
     "data": {
      "text/plain": [
       "tensor([[-1.3309, -0.1163,  2.8055,  1.4486, -2.4700, -0.5065, -1.5516],\n",
       "        [-0.8462,  1.6179,  1.2017, -1.0010, -2.1862,  2.2058,  2.0300],\n",
       "        [ 0.1362,  0.0316, -0.7088, -1.5837,  2.4547,  3.1562,  1.5851]])"
      ]
     },
     "execution_count": 96,
     "metadata": {},
     "output_type": "execute_result"
    }
   ],
   "source": [
    "# Multiplying numpy matrix and pytoch matrix does not work\n",
    "# so being converted to have it work\n",
    "nMatA = np.random.randn(3, 4) # matrix of random elements 3 rows X 4 cols\n",
    "pMatB = torch.randn(4, 7) # matrix of random elements 4 rows X 7 cols\n",
    "torch.tensor(nMatA, dtype=torch.float)@pMatB"
   ]
  },
  {
   "cell_type": "markdown",
   "id": "0371f3c7",
   "metadata": {},
   "source": [
    "## Softmax in python, numpy, and pytorch (Softmax: Video 19)\n",
    "\n",
    "$\\sigma_i=\\frac{e^{z_i}}{\\sum e^z}$\n",
    "\n",
    "Softmax is used to predict the probability of a class in deep learning algorithm, and as an input it can take the arbitrary values that deep learning algorithms produce to signify a certain class, and the softmax equation takes those numbers and predicts the probabilities of all the classes. \n",
    "\n",
    "**Refer to Machine Learning Specialization by Andrew Ng for more details**\n",
    "\n",
    "The graph can behave like this:\n",
    "\n",
    "<img src=\"./Images/4.png\" title=\"\" alt=\"\" width=\"841\">"
   ]
  },
  {
   "cell_type": "code",
   "execution_count": 97,
   "id": "4f658cee",
   "metadata": {},
   "outputs": [
    {
     "data": {
      "text/plain": [
       "array([0.09003057, 0.24472847, 0.66524096])"
      ]
     },
     "execution_count": 97,
     "metadata": {},
     "output_type": "execute_result"
    }
   ],
   "source": [
    "z = [1,2,3]\n",
    "num = np.exp(z)\n",
    "den = np.sum(np.exp(z))\n",
    "sigma = num/den\n",
    "sigma"
   ]
  },
  {
   "cell_type": "code",
   "execution_count": 98,
   "id": "60be6a3b",
   "metadata": {},
   "outputs": [
    {
     "data": {
      "image/png": "[encoded data removed]",
      "text/plain": [
       "<Figure size 640x480 with 1 Axes>"
      ]
     },
     "metadata": {},
     "output_type": "display_data"
    }
   ],
   "source": [
    "z = np.random.randint(-5, high=15, size=25)\n",
    "num = np.exp(z)\n",
    "den = np.sum(np.exp(z))\n",
    "out = num/den\n",
    "\n",
    "fig, ax = plt.subplots()\n",
    "ax.scatter(z, out)\n",
    "ax.set(title=\"Plot of softmax input/output\", xlabel=\"Original input(z)\", ylabel=\"Softmaxed σ\")\n",
    "plt.show()"
   ]
  },
  {
   "cell_type": "code",
   "execution_count": 99,
   "id": "ce26b4f7",
   "metadata": {},
   "outputs": [
    {
     "name": "stdout",
     "output_type": "stream",
     "text": [
      "tensor([0.0900, 0.2447, 0.6652])\n"
     ]
    }
   ],
   "source": [
    "z = [1,2,3]\n",
    "# create an instance of softmax activation class\n",
    "softfun = nn.Softmax(dim=0)\n",
    "# then apply the data to that function\n",
    "sigmaT = softfun(torch.Tensor(z)) \n",
    "# same for torch.tensor(z, dtype=torch.float)\n",
    "print(sigmaT)"
   ]
  },
  {
   "cell_type": "markdown",
   "id": "899c4a97",
   "metadata": {},
   "source": [
    "## Logarithms in math, numpy, and pytorch (Logarithms: Video 20)\n",
    "The increase in y for values in x from 0.0 to 0.1 is very high compared to increase between higher consecutive increases in x. So, such graphs can be used to calculate small decrease/increase in probability in smaller values of x with smaller roundoff errors. "
   ]
  },
  {
   "cell_type": "code",
   "execution_count": 100,
   "id": "079facea",
   "metadata": {},
   "outputs": [
    {
     "data": {
      "image/png": "[encoded data removed]",
      "text/plain": [
       "<Figure size 640x480 with 1 Axes>"
      ]
     },
     "metadata": {},
     "output_type": "display_data"
    }
   ],
   "source": [
    "# The function np.linspace takes three arguments: the starting point of the sequence (0.0001 in this case), \n",
    "# the ending point of the sequence (1 in this case), and the number of elements to be generated in the \n",
    "# sequence (20 in this case).\n",
    "x = np.linspace(0.0001, 1, 20)\n",
    "lnx = np.log(x) # lnx\n",
    "\n",
    "fig, ax = plt.subplots()\n",
    "ax.plot(x, lnx, marker='x')\n",
    "ax.set(xlabel='x', ylabel='lnx')\n",
    "plt.show()"
   ]
  },
  {
   "cell_type": "markdown",
   "id": "6110c1a3",
   "metadata": {},
   "source": [
    "## Cross-entropy on math, numpy, and pytorch (Entropy and cross-entropy: Video 21)"
   ]
  },
  {
   "cell_type": "markdown",
   "id": "de6941ea",
   "metadata": {},
   "source": [
    "<img src=\"./Images/7.png\" title=\"\" alt=\"\" width=\"739\">\n",
    "\n",
    "The graph can be represented as:\n",
    "\n",
    "$H=-\\sum^n_{i=1}p(x_i)log_2(p(x_i))$\n",
    "\n",
    "$x$ = data values\n",
    "\n",
    "$p$ = probability \n",
    "\n",
    "high entropy means dataset has a lot of variability (unpredictable)\n",
    "\n",
    "low entropy means that most of the values of the dataset repeat and therefore are redundant\n",
    "\n",
    "Cross-entropy describes the relationship between two probability distributions.\n",
    "\n",
    "$H=-\\sum p(x)log_2(q)$\n",
    "\n",
    "Cross entropy in neural network tells the model how well the model does on all training examples\n"
   ]
  },
  {
   "cell_type": "code",
   "execution_count": 101,
   "id": "36f64a93",
   "metadata": {},
   "outputs": [
    {
     "name": "stdout",
     "output_type": "stream",
     "text": [
      "Cross Entropy: 0.5623351446188083\n"
     ]
    }
   ],
   "source": [
    "# the probability of event happening is 0.25\n",
    "# so the probability of it not happening is 1-0.25\n",
    "x = [0.25, 0.75]\n",
    "H = 0\n",
    "for p in x:\n",
    "  H += -p * np.log(p)\n",
    "print(f'Cross Entropy: {H}')"
   ]
  },
  {
   "cell_type": "code",
   "execution_count": 102,
   "id": "afe1ad37",
   "metadata": {},
   "outputs": [
    {
     "name": "stdout",
     "output_type": "stream",
     "text": [
      "Cross Entropy: 1.3862943611198906\n"
     ]
    }
   ],
   "source": [
    "# actual probability, it is either a cat, p=1, or not cat,p=0 (not model's prediction)\n",
    "p = [1, 0]\n",
    "# model's prediction of being cat, 0.25, not cat, 0.75\n",
    "q = [0.25, 0.75]\n",
    "H = 0\n",
    "for i in p:\n",
    "    H += -p[i] * np.log(q[i])\n",
    "print(f\"Cross Entropy: {H}\")"
   ]
  },
  {
   "cell_type": "code",
   "execution_count": 103,
   "id": "aa48401d",
   "metadata": {},
   "outputs": [
    {
     "data": {
      "text/plain": [
       "tensor(1.3863)"
      ]
     },
     "execution_count": 103,
     "metadata": {},
     "output_type": "execute_result"
    }
   ],
   "source": [
    "p_tensor = torch.Tensor(p)\n",
    "q_tensor = torch.Tensor(q)\n",
    "# binary_cross_entropy takes params in this order: \n",
    "# (model predicted probability, actual probability)\n",
    "F.binary_cross_entropy(q_tensor, p_tensor)"
   ]
  },
  {
   "cell_type": "markdown",
   "id": "94cea32d",
   "metadata": {},
   "source": [
    "## min/max/argmin/argmax in numpy, and pytorch (Min/max and argmin/argmax: Video 22)"
   ]
  },
  {
   "cell_type": "code",
   "execution_count": 104,
   "id": "8603f433",
   "metadata": {},
   "outputs": [
    {
     "name": "stdout",
     "output_type": "stream",
     "text": [
      "minimum values in each col: [0 1 5]\n",
      "minimum values in each row: [0 5]\n",
      "minimum in each col pos: [0 0 1]\n",
      "minimum in each row pos: [0 2]\n",
      "maximum in whole matrix: 3\n"
     ]
    }
   ],
   "source": [
    "M = np.array([[0, 1, 10], \n",
    "              [20, 8, 5]])\n",
    "print(f\"minimum values in each col: {np.min(M, axis=0)}\")\n",
    "print(f\"minimum values in each row: {np.min(M, axis=1)}\")\n",
    "\n",
    "# argmin implies the positions/indices where min occurs,\n",
    "# there is also argmax\n",
    "print(f\"minimum in each col pos: {np.argmin(M, axis=0)}\")\n",
    "print(f\"minimum in each row pos: {np.argmin(M, axis=1)}\")\n",
    "\n",
    "# argmin for whole matrix\n",
    "print(f\"maximum in whole matrix: {np.argmax(M)}\")"
   ]
  },
  {
   "cell_type": "code",
   "execution_count": 105,
   "id": "3f436253",
   "metadata": {},
   "outputs": [
    {
     "name": "stdout",
     "output_type": "stream",
     "text": [
      "minimum values in each col: tensor([0., 1., 5.])\n",
      "minimum in each col pos: tensor([0, 0, 1])\n"
     ]
    }
   ],
   "source": [
    "tensor_M = torch.Tensor(M)\n",
    "min_in_cols = torch.min(tensor_M, axis=0)\n",
    "print(f\"minimum values in each col: {min_in_cols.values}\")\n",
    "print(f\"minimum in each col pos: {min_in_cols.indices}\")"
   ]
  },
  {
   "cell_type": "markdown",
   "id": "7c9120a8",
   "metadata": {},
   "source": [
    "## mean and variance in numpy, and pytorch (Mean and variance: Video 23)\n",
    "Formula of mean: $x=\\frac{1}{n} \\sum^n_{i=1}x_i$\n",
    "\n",
    "Formula of variance: $\\sigma^2=\\frac{1}{n-1} \\sum^n_{i=1}(x_i-mean)^2$\n",
    "\n",
    "Formula of standard deviation: $\\sigma=\\sqrt{variance}=\\sqrt{\\sigma^{2}}$"
   ]
  },
  {
   "cell_type": "code",
   "execution_count": 106,
   "id": "95cf0416",
   "metadata": {},
   "outputs": [
    {
     "data": {
      "text/plain": [
       "(3.142857142857143, 4.122448979591836, 4.809523809523809, 4.809523809523809)"
      ]
     },
     "execution_count": 106,
     "metadata": {},
     "output_type": "execute_result"
    }
   ],
   "source": [
    "x = [1,2,4,6,5,4,0]\n",
    "mean = np.mean(x)\n",
    "var = np.var(x) # calculates 1/n instead of n-1\n",
    "unbiased_var = 1/(len(x)-1) * np.sum((x-mean)**2) # unequal to above, equal to below\n",
    "unbiased_var_numpy = np.var(x, ddof=1)\n",
    "mean, var, unbiased_var, unbiased_var_numpy"
   ]
  },
  {
   "cell_type": "markdown",
   "id": "f6db42bc",
   "metadata": {},
   "source": [
    "## sampling with python (Random sampling and sampling variability: Video 24)"
   ]
  },
  {
   "cell_type": "code",
   "execution_count": 107,
   "id": "394269ce",
   "metadata": {},
   "outputs": [
    {
     "data": {
      "text/plain": [
       "(1.625, 2.6)"
      ]
     },
     "execution_count": 107,
     "metadata": {},
     "output_type": "execute_result"
    }
   ],
   "source": [
    "x = [1,2,4,6,5,4,0,-4,5,-2,6,10,-9,1,3,-6]\n",
    "mean = np.mean(x)\n",
    "sample = np.random.choice(x, size=5, replace=True)\n",
    "sampmean = np.mean(sample)\n",
    "mean, sampmean"
   ]
  },
  {
   "cell_type": "markdown",
   "id": "7738d714",
   "metadata": {},
   "source": [
    "## Getting same random numbers in numpy, and pytorch (Reproducible randomness via seeding: Video 25)"
   ]
  },
  {
   "cell_type": "code",
   "execution_count": 108,
   "id": "2a780dd5",
   "metadata": {},
   "outputs": [
    {
     "data": {
      "text/plain": [
       "array([ 0.44122749, -0.33087015,  2.43077119, -0.25209213,  0.10960984])"
      ]
     },
     "execution_count": 108,
     "metadata": {},
     "output_type": "execute_result"
    }
   ],
   "source": [
    "np.random.seed(5) # older method\n",
    "np.random.randn(5)"
   ]
  },
  {
   "cell_type": "code",
   "execution_count": 109,
   "id": "83de67dc",
   "metadata": {},
   "outputs": [
    {
     "name": "stdout",
     "output_type": "stream",
     "text": [
      "[ 0.27626589 -1.85462808  0.62390111  1.14531129  1.03719047]\n",
      "[-0.24972681 -1.01951826  2.23461339  0.72764703  1.2921122 ]\n",
      "[ 1.88663893 -0.11169829 -0.36210134  0.14867505 -0.43778315]\n",
      "[ 1.15494929 -0.0015467  -0.11196868 -1.08136725  0.10265891]\n",
      "[ 1.58248112 -0.9092324  -0.59163666  0.18760323 -0.32986996]\n"
     ]
    }
   ],
   "source": [
    "rand_seed1 = np.random.RandomState(17) # newer method\n",
    "rand_seed2 = np.random.RandomState(20210530)\n",
    "\n",
    "print(rand_seed1.randn(5))\n",
    "print(rand_seed2.randn(5))\n",
    "print(rand_seed1.randn(5))\n",
    "print(rand_seed2.randn(5))\n",
    "print(np.random.randn(5))"
   ]
  },
  {
   "cell_type": "code",
   "execution_count": 110,
   "id": "d238744e",
   "metadata": {},
   "outputs": [
    {
     "data": {
      "text/plain": [
       "tensor([-0.4868, -0.6038, -0.5581,  0.6675, -0.1974])"
      ]
     },
     "execution_count": 110,
     "metadata": {},
     "output_type": "execute_result"
    }
   ],
   "source": [
    "torch.manual_seed(5)\n",
    "torch.randn(5)"
   ]
  },
  {
   "cell_type": "markdown",
   "id": "d970ae45",
   "metadata": {},
   "source": [
    "## (The t-test: Video 26)\n",
    "We will do experimentations by changing parameters or by changing model architectures. But how do we determine that a set of parameters/model architecture is better than the others? The answer is to that is t-test. \n",
    "\n",
    "$t_k=\\frac{\\bar{x}-\\bar{y}}{\\frac{s}{\\sqrt{n}}}$ = $\\frac{MeanDifferences}{StandardDeviations}$\n",
    "\n",
    "$\\bar{x}$ : mean of x\n",
    "\n",
    "$\\bar{y}$ : mean of y\n",
    "\n",
    "s: standard deviation\n",
    "\n",
    "n: number of times the model is repeated"
   ]
  },
  {
   "cell_type": "code",
   "execution_count": 111,
   "id": "3ac0fba0",
   "metadata": {},
   "outputs": [
    {
     "data": {
      "image/png": "[encoded data removed]",
      "text/plain": [
       "<Figure size 640x480 with 1 Axes>"
      ]
     },
     "metadata": {},
     "output_type": "display_data"
    }
   ],
   "source": [
    "n1 = 30 # number of samples in dataset 1\n",
    "n2 = 40 # number of samples in dataset 2\n",
    "mu1 = 1 # population mean in dataset 1\n",
    "mu2 = 2 # population mean in dataset 2\n",
    "\n",
    "# generate the data\n",
    "data1 = mu1 + np.random.randn(n1)\n",
    "data2 = mu2 + np.random.randn(n2)\n",
    "\n",
    "# plot\n",
    "fig, ax = plt.subplots()\n",
    "# This sets the style of the markers to red circles ('o' stands for circle, 'r' stands for red color).\n",
    "# markerfacecolor='w': This sets the color of the marker face to white.\n",
    "ax.plot(np.zeros(n1), data1, 'ro', markerfacecolor='w', markersize=14)\n",
    "ax.plot(np.ones(n2), data2, 'bs', markerfacecolor='w', markersize=14)\n",
    "ax.set(xlim=[-1,2], xticks=[0,1], label=[\"Group 1\", \"Group 2\"])\n",
    "plt.show()"
   ]
  },
  {
   "cell_type": "markdown",
   "id": "1eead148",
   "metadata": {},
   "source": [
    "this tells us that group 2 has a larger mean than group 1, check the 2 cells below"
   ]
  },
  {
   "cell_type": "code",
   "execution_count": 112,
   "id": "e3f22b5f",
   "metadata": {},
   "outputs": [
    {
     "data": {
      "text/plain": [
       "(-4.587252529621949, 1.9864633028292354e-05)"
      ]
     },
     "execution_count": 112,
     "metadata": {},
     "output_type": "execute_result"
    }
   ],
   "source": [
    "t, p = stats.ttest_ind(data1, data2)\n",
    "t, p"
   ]
  },
  {
   "cell_type": "code",
   "execution_count": 113,
   "id": "65153fcf",
   "metadata": {},
   "outputs": [
    {
     "data": {
      "text/plain": [
       "(4.587252529621949, 1.9864633028292354e-05)"
      ]
     },
     "execution_count": 113,
     "metadata": {},
     "output_type": "execute_result"
    }
   ],
   "source": [
    "t, p = stats.ttest_ind(data2, data1)\n",
    "t, p"
   ]
  },
  {
   "cell_type": "markdown",
   "id": "6871fff2",
   "metadata": {},
   "source": [
    "## Derivatives in sympy (Derivatives: intuition and polynomials: Video 27)\n",
    "\n",
    "Why derivatives are needed for deep learning?\n",
    "\n",
    "In Deep learning, the goal e.g classification is represented as an error function. Thus, the best solution is the point with the smallest error. \n",
    "\n",
    "The derivatives tells us the which way to move in that landscape in order to find the optimal solution."
   ]
  },
  {
   "cell_type": "code",
   "execution_count": 114,
   "id": "d94a6440",
   "metadata": {},
   "outputs": [
    {
     "data": {
      "text/plain": [
       "(2*x**2, 4*x)"
      ]
     },
     "execution_count": 114,
     "metadata": {},
     "output_type": "execute_result"
    }
   ],
   "source": [
    "x = sym.symbols('x')\n",
    "fx = 2*x**2\n",
    "df = sym.diff(fx, x) # differentiate equation above\n",
    "fx, df"
   ]
  },
  {
   "cell_type": "code",
   "execution_count": 115,
   "id": "d644b1cb",
   "metadata": {},
   "outputs": [
    {
     "data": {
      "image/png": "[encoded data removed]",
      "text/plain": [
       "<Figure size 640x480 with 1 Axes>"
      ]
     },
     "metadata": {},
     "output_type": "display_data"
    },
    {
     "data": {
      "image/png": "[encoded data removed]",
      "text/plain": [
       "<Figure size 640x480 with 1 Axes>"
      ]
     },
     "metadata": {},
     "output_type": "display_data"
    }
   ],
   "source": [
    "symplot(fx, (x, -4, 4), title='The function')\n",
    "plt.show()\n",
    "\n",
    "symplot(df, (x, -4, 4), title='The derivative')\n",
    "plt.show()"
   ]
  },
  {
   "cell_type": "markdown",
   "id": "bab650da",
   "metadata": {},
   "source": [
    "## (Derivatives find minima & Derivatives: product and chain rules: Video 28, 29)\n",
    "\n",
    "We can use differentiation to find minimum and maximum points in a curve, where the differentiation = 0, but how to differentiate between maxima and minima?\n",
    "\n",
    "<img src=\"./Images/11.png\" title=\"\" alt=\"\" width=\"657\">\n",
    "\n",
    "on the above graph, y-axis plots the derivative values, and the x-axis plots the x values.\n",
    "\n",
    "Note: both local maxima/minima and global maxima/minima have differentiation = 0.\n",
    "\n",
    "Examples of differentiation:\n",
    "\n",
    "<img src=\"./Images/12.png\" title=\"\" alt=\"\" width=\"648\">\n"
   ]
  },
  {
   "cell_type": "code",
   "execution_count": 116,
   "id": "eb441d17",
   "metadata": {},
   "outputs": [
    {
     "data": {
      "text/latex": [
       "$\\displaystyle 2 x^{2} \\left(- 12 x^{3} + 12 x^{2}\\right) + 4 x \\left(- 3 x^{4} + 4 x^{3}\\right)$"
      ],
      "text/plain": [
       "2*x**2*(-12*x**3 + 12*x**2) + 4*x*(-3*x**4 + 4*x**3)"
      ]
     },
     "execution_count": 116,
     "metadata": {},
     "output_type": "execute_result"
    }
   ],
   "source": [
    "x = sym.symbols('x')\n",
    "fx = 2*x**2\n",
    "gx = 4*x**3 - 3*x**4\n",
    "df = sym.diff(fx)\n",
    "dg = sym.diff(gx)\n",
    "\n",
    "# product rule via sympy\n",
    "prod_sym = sym.diff(fx*gx)\n",
    "prod_sym"
   ]
  },
  {
   "cell_type": "code",
   "execution_count": 117,
   "id": "65e70a52",
   "metadata": {},
   "outputs": [
    {
     "name": "stdout",
     "output_type": "stream",
     "text": [
      "function: \n"
     ]
    },
    {
     "data": {
      "text/latex": [
       "$\\displaystyle \\left(4 x^{3} + x^{2}\\right)^{5}$"
      ],
      "text/plain": [
       "(4*x**3 + x**2)**5"
      ]
     },
     "metadata": {},
     "output_type": "display_data"
    },
    {
     "name": "stdout",
     "output_type": "stream",
     "text": [
      "derivative\n"
     ]
    },
    {
     "data": {
      "text/latex": [
       "$\\displaystyle \\left(60 x^{2} + 10 x\\right) \\left(4 x^{3} + x^{2}\\right)^{4}$"
      ],
      "text/plain": [
       "(60*x**2 + 10*x)*(4*x**3 + x**2)**4"
      ]
     },
     "metadata": {},
     "output_type": "display_data"
    }
   ],
   "source": [
    "gx = x**2 + 4*x**3\n",
    "fx = (gx)**5\n",
    "\n",
    "# chain rule via sympy\n",
    "print('function: ')\n",
    "display(fx)\n",
    "print('derivative')\n",
    "display(sym.diff(fx))"
   ]
  },
  {
   "cell_type": "code",
   "execution_count": null,
   "id": "c672af26",
   "metadata": {},
   "outputs": [],
   "source": []
  }
 ],
 "metadata": {
  "kernelspec": {
   "display_name": "Python 3 (ipykernel)",
   "language": "python",
   "name": "python3"
  },
  "language_info": {
   "codemirror_mode": {
    "name": "ipython",
    "version": 3
   },
   "file_extension": ".py",
   "mimetype": "text/x-python",
   "name": "python",
   "nbconvert_exporter": "python",
   "pygments_lexer": "ipython3",
   "version": "3.10.8"
  }
 },
 "nbformat": 4,
 "nbformat_minor": 5
}
